{
  "nbformat": 4,
  "nbformat_minor": 5,
  "metadata": {
    "kernelspec": {
      "display_name": "Python 3",
      "language": "python",
      "name": "python3"
    },
    "language_info": {
      "codemirror_mode": {
        "name": "ipython",
        "version": 3
      },
      "file_extension": ".py",
      "mimetype": "text/x-python",
      "name": "python",
      "nbconvert_exporter": "python",
      "pygments_lexer": "ipython3",
      "version": "3.8.8"
    },
    "colab": {
      "name": "DAProjectcode.ipynb",
      "provenance": []
    }
  },
  "cells": [
    {
      "cell_type": "markdown",
      "metadata": {
        "id": "39c783dc"
      },
      "source": [
        "# House Prediction"
      ],
      "id": "39c783dc"
    },
    {
      "cell_type": "code",
      "metadata": {
        "id": "b79d0152"
      },
      "source": [
        "import os\n",
        "import numpy as np\n",
        "import pandas as pd\n",
        "import seaborn as seb\n",
        "import matplotlib.pyplot as plt\n",
        "from sklearn.model_selection import train_test_split\n",
        "from sklearn.linear_model import LinearRegression\n",
        "from sklearn.preprocessing import LabelEncoder\n",
        "from sklearn.metrics import r2_score\n",
        "%matplotlib inline"
      ],
      "id": "b79d0152",
      "execution_count": 1,
      "outputs": []
    },
    {
      "cell_type": "code",
      "metadata": {
        "id": "323bd816"
      },
      "source": [
        "train_data=pd.read_csv('dataset3.csv')"
      ],
      "id": "323bd816",
      "execution_count": 4,
      "outputs": []
    },
    {
      "cell_type": "code",
      "metadata": {
        "id": "0cbe8738",
        "colab": {
          "base_uri": "https://localhost:8080/",
          "height": 270
        },
        "outputId": "b868567d-be09-4654-b6b1-84af632be765"
      },
      "source": [
        "train_data.head(5)"
      ],
      "id": "0cbe8738",
      "execution_count": 5,
      "outputs": [
        {
          "output_type": "execute_result",
          "data": {
            "text/html": [
              "\n",
              "  <div id=\"df-da4f39c0-c3f0-45a0-98c5-efc208954d2d\">\n",
              "    <div class=\"colab-df-container\">\n",
              "      <div>\n",
              "<style scoped>\n",
              "    .dataframe tbody tr th:only-of-type {\n",
              "        vertical-align: middle;\n",
              "    }\n",
              "\n",
              "    .dataframe tbody tr th {\n",
              "        vertical-align: top;\n",
              "    }\n",
              "\n",
              "    .dataframe thead th {\n",
              "        text-align: right;\n",
              "    }\n",
              "</style>\n",
              "<table border=\"1\" class=\"dataframe\">\n",
              "  <thead>\n",
              "    <tr style=\"text-align: right;\">\n",
              "      <th></th>\n",
              "      <th>id</th>\n",
              "      <th>date</th>\n",
              "      <th>bedrooms</th>\n",
              "      <th>bathrooms</th>\n",
              "      <th>sqft_living</th>\n",
              "      <th>sqft_lot</th>\n",
              "      <th>floors</th>\n",
              "      <th>waterfront</th>\n",
              "      <th>view</th>\n",
              "      <th>condition</th>\n",
              "      <th>grade</th>\n",
              "      <th>sqft_above</th>\n",
              "      <th>sqft_basement</th>\n",
              "      <th>yr_built</th>\n",
              "      <th>yr_renovated</th>\n",
              "      <th>zipcode</th>\n",
              "      <th>lat</th>\n",
              "      <th>long</th>\n",
              "      <th>price</th>\n",
              "    </tr>\n",
              "  </thead>\n",
              "  <tbody>\n",
              "    <tr>\n",
              "      <th>0</th>\n",
              "      <td>7129300520</td>\n",
              "      <td>20141013</td>\n",
              "      <td>3</td>\n",
              "      <td>1</td>\n",
              "      <td>1180</td>\n",
              "      <td>5650</td>\n",
              "      <td>1</td>\n",
              "      <td>no</td>\n",
              "      <td>0</td>\n",
              "      <td>3</td>\n",
              "      <td>7</td>\n",
              "      <td>1180</td>\n",
              "      <td>0</td>\n",
              "      <td>1955</td>\n",
              "      <td>1995.0</td>\n",
              "      <td>98178</td>\n",
              "      <td>47.5112</td>\n",
              "      <td>-1227.000</td>\n",
              "      <td>221900</td>\n",
              "    </tr>\n",
              "    <tr>\n",
              "      <th>1</th>\n",
              "      <td>6414100192</td>\n",
              "      <td>20141209</td>\n",
              "      <td>3</td>\n",
              "      <td>2</td>\n",
              "      <td>2570</td>\n",
              "      <td>7242</td>\n",
              "      <td>2</td>\n",
              "      <td>no</td>\n",
              "      <td>0</td>\n",
              "      <td>3</td>\n",
              "      <td>7</td>\n",
              "      <td>2170</td>\n",
              "      <td>400</td>\n",
              "      <td>1951</td>\n",
              "      <td>1991.0</td>\n",
              "      <td>98125</td>\n",
              "      <td>47.7210</td>\n",
              "      <td>-122.319</td>\n",
              "      <td>538000</td>\n",
              "    </tr>\n",
              "    <tr>\n",
              "      <th>2</th>\n",
              "      <td>5631500400</td>\n",
              "      <td>20150225</td>\n",
              "      <td>2</td>\n",
              "      <td>1</td>\n",
              "      <td>770</td>\n",
              "      <td>10000</td>\n",
              "      <td>1</td>\n",
              "      <td>no</td>\n",
              "      <td>0</td>\n",
              "      <td>3</td>\n",
              "      <td>6</td>\n",
              "      <td>770</td>\n",
              "      <td>0</td>\n",
              "      <td>1933</td>\n",
              "      <td>1995.0</td>\n",
              "      <td>98028</td>\n",
              "      <td>47.7379</td>\n",
              "      <td>-122.233</td>\n",
              "      <td>180000</td>\n",
              "    </tr>\n",
              "    <tr>\n",
              "      <th>3</th>\n",
              "      <td>2487200875</td>\n",
              "      <td>20141209</td>\n",
              "      <td>4</td>\n",
              "      <td>3</td>\n",
              "      <td>1960</td>\n",
              "      <td>5000</td>\n",
              "      <td>1</td>\n",
              "      <td>no</td>\n",
              "      <td>0</td>\n",
              "      <td>5</td>\n",
              "      <td>7</td>\n",
              "      <td>1050</td>\n",
              "      <td>910</td>\n",
              "      <td>1965</td>\n",
              "      <td>1995.0</td>\n",
              "      <td>98136</td>\n",
              "      <td>47.5208</td>\n",
              "      <td>-122.393</td>\n",
              "      <td>604000</td>\n",
              "    </tr>\n",
              "    <tr>\n",
              "      <th>4</th>\n",
              "      <td>1954400510</td>\n",
              "      <td>20150218</td>\n",
              "      <td>3</td>\n",
              "      <td>2</td>\n",
              "      <td>1680</td>\n",
              "      <td>8080</td>\n",
              "      <td>1</td>\n",
              "      <td>no</td>\n",
              "      <td>0</td>\n",
              "      <td>3</td>\n",
              "      <td>8</td>\n",
              "      <td>1680</td>\n",
              "      <td>0</td>\n",
              "      <td>1987</td>\n",
              "      <td>1995.0</td>\n",
              "      <td>98074</td>\n",
              "      <td>47.6168</td>\n",
              "      <td>-122.045</td>\n",
              "      <td>510000</td>\n",
              "    </tr>\n",
              "  </tbody>\n",
              "</table>\n",
              "</div>\n",
              "      <button class=\"colab-df-convert\" onclick=\"convertToInteractive('df-da4f39c0-c3f0-45a0-98c5-efc208954d2d')\"\n",
              "              title=\"Convert this dataframe to an interactive table.\"\n",
              "              style=\"display:none;\">\n",
              "        \n",
              "  <svg xmlns=\"http://www.w3.org/2000/svg\" height=\"24px\"viewBox=\"0 0 24 24\"\n",
              "       width=\"24px\">\n",
              "    <path d=\"M0 0h24v24H0V0z\" fill=\"none\"/>\n",
              "    <path d=\"M18.56 5.44l.94 2.06.94-2.06 2.06-.94-2.06-.94-.94-2.06-.94 2.06-2.06.94zm-11 1L8.5 8.5l.94-2.06 2.06-.94-2.06-.94L8.5 2.5l-.94 2.06-2.06.94zm10 10l.94 2.06.94-2.06 2.06-.94-2.06-.94-.94-2.06-.94 2.06-2.06.94z\"/><path d=\"M17.41 7.96l-1.37-1.37c-.4-.4-.92-.59-1.43-.59-.52 0-1.04.2-1.43.59L10.3 9.45l-7.72 7.72c-.78.78-.78 2.05 0 2.83L4 21.41c.39.39.9.59 1.41.59.51 0 1.02-.2 1.41-.59l7.78-7.78 2.81-2.81c.8-.78.8-2.07 0-2.86zM5.41 20L4 18.59l7.72-7.72 1.47 1.35L5.41 20z\"/>\n",
              "  </svg>\n",
              "      </button>\n",
              "      \n",
              "  <style>\n",
              "    .colab-df-container {\n",
              "      display:flex;\n",
              "      flex-wrap:wrap;\n",
              "      gap: 12px;\n",
              "    }\n",
              "\n",
              "    .colab-df-convert {\n",
              "      background-color: #E8F0FE;\n",
              "      border: none;\n",
              "      border-radius: 50%;\n",
              "      cursor: pointer;\n",
              "      display: none;\n",
              "      fill: #1967D2;\n",
              "      height: 32px;\n",
              "      padding: 0 0 0 0;\n",
              "      width: 32px;\n",
              "    }\n",
              "\n",
              "    .colab-df-convert:hover {\n",
              "      background-color: #E2EBFA;\n",
              "      box-shadow: 0px 1px 2px rgba(60, 64, 67, 0.3), 0px 1px 3px 1px rgba(60, 64, 67, 0.15);\n",
              "      fill: #174EA6;\n",
              "    }\n",
              "\n",
              "    [theme=dark] .colab-df-convert {\n",
              "      background-color: #3B4455;\n",
              "      fill: #D2E3FC;\n",
              "    }\n",
              "\n",
              "    [theme=dark] .colab-df-convert:hover {\n",
              "      background-color: #434B5C;\n",
              "      box-shadow: 0px 1px 3px 1px rgba(0, 0, 0, 0.15);\n",
              "      filter: drop-shadow(0px 1px 2px rgba(0, 0, 0, 0.3));\n",
              "      fill: #FFFFFF;\n",
              "    }\n",
              "  </style>\n",
              "\n",
              "      <script>\n",
              "        const buttonEl =\n",
              "          document.querySelector('#df-da4f39c0-c3f0-45a0-98c5-efc208954d2d button.colab-df-convert');\n",
              "        buttonEl.style.display =\n",
              "          google.colab.kernel.accessAllowed ? 'block' : 'none';\n",
              "\n",
              "        async function convertToInteractive(key) {\n",
              "          const element = document.querySelector('#df-da4f39c0-c3f0-45a0-98c5-efc208954d2d');\n",
              "          const dataTable =\n",
              "            await google.colab.kernel.invokeFunction('convertToInteractive',\n",
              "                                                     [key], {});\n",
              "          if (!dataTable) return;\n",
              "\n",
              "          const docLinkHtml = 'Like what you see? Visit the ' +\n",
              "            '<a target=\"_blank\" href=https://colab.research.google.com/notebooks/data_table.ipynb>data table notebook</a>'\n",
              "            + ' to learn more about interactive tables.';\n",
              "          element.innerHTML = '';\n",
              "          dataTable['output_type'] = 'display_data';\n",
              "          await google.colab.output.renderOutput(dataTable, element);\n",
              "          const docLink = document.createElement('div');\n",
              "          docLink.innerHTML = docLinkHtml;\n",
              "          element.appendChild(docLink);\n",
              "        }\n",
              "      </script>\n",
              "    </div>\n",
              "  </div>\n",
              "  "
            ],
            "text/plain": [
              "           id      date  bedrooms  ...      lat      long   price\n",
              "0  7129300520  20141013         3  ...  47.5112 -1227.000  221900\n",
              "1  6414100192  20141209         3  ...  47.7210  -122.319  538000\n",
              "2  5631500400  20150225         2  ...  47.7379  -122.233  180000\n",
              "3  2487200875  20141209         4  ...  47.5208  -122.393  604000\n",
              "4  1954400510  20150218         3  ...  47.6168  -122.045  510000\n",
              "\n",
              "[5 rows x 19 columns]"
            ]
          },
          "metadata": {},
          "execution_count": 5
        }
      ]
    },
    {
      "cell_type": "code",
      "metadata": {
        "id": "d4697100",
        "colab": {
          "base_uri": "https://localhost:8080/"
        },
        "outputId": "613cd2ae-86c9-4507-8172-f3f0a458ef3e"
      },
      "source": [
        "train_data.shape"
      ],
      "id": "d4697100",
      "execution_count": 6,
      "outputs": [
        {
          "output_type": "execute_result",
          "data": {
            "text/plain": [
              "(16914, 19)"
            ]
          },
          "metadata": {},
          "execution_count": 6
        }
      ]
    },
    {
      "cell_type": "code",
      "metadata": {
        "id": "76fe9dcc",
        "colab": {
          "base_uri": "https://localhost:8080/"
        },
        "outputId": "34084d8c-764d-4b13-bb78-15648e934c03"
      },
      "source": [
        "train_data.isnull().sum()"
      ],
      "id": "76fe9dcc",
      "execution_count": 7,
      "outputs": [
        {
          "output_type": "execute_result",
          "data": {
            "text/plain": [
              "id               0\n",
              "date             0\n",
              "bedrooms         0\n",
              "bathrooms        0\n",
              "sqft_living      0\n",
              "sqft_lot         0\n",
              "floors           0\n",
              "waterfront       0\n",
              "view             0\n",
              "condition        0\n",
              "grade            0\n",
              "sqft_above       0\n",
              "sqft_basement    0\n",
              "yr_built         0\n",
              "yr_renovated     0\n",
              "zipcode          0\n",
              "lat              0\n",
              "long             0\n",
              "price            0\n",
              "dtype: int64"
            ]
          },
          "metadata": {},
          "execution_count": 7
        }
      ]
    },
    {
      "cell_type": "code",
      "metadata": {
        "id": "ee83c100",
        "colab": {
          "base_uri": "https://localhost:8080/",
          "height": 351
        },
        "outputId": "b8c4e59b-38cb-4c88-ff28-64db94204b57"
      },
      "source": [
        "seb.countplot(train_data['bedrooms'])"
      ],
      "id": "ee83c100",
      "execution_count": 8,
      "outputs": [
        {
          "output_type": "stream",
          "name": "stderr",
          "text": [
            "/usr/local/lib/python3.7/dist-packages/seaborn/_decorators.py:43: FutureWarning: Pass the following variable as a keyword arg: x. From version 0.12, the only valid positional argument will be `data`, and passing other arguments without an explicit keyword will result in an error or misinterpretation.\n",
            "  FutureWarning\n"
          ]
        },
        {
          "output_type": "execute_result",
          "data": {
            "text/plain": [
              "<matplotlib.axes._subplots.AxesSubplot at 0x7f37a0230c90>"
            ]
          },
          "metadata": {},
          "execution_count": 8
        },
        {
          "output_type": "display_data",
          "data": {
            "image/png": "[encoded data removed]",
            "text/plain": [
              "<Figure size 432x288 with 1 Axes>"
            ]
          },
          "metadata": {
            "needs_background": "light"
          }
        }
      ]
    },
    {
      "cell_type": "code",
      "metadata": {
        "id": "8fe30b07",
        "colab": {
          "base_uri": "https://localhost:8080/",
          "height": 351
        },
        "outputId": "7731fc88-606d-4c02-cd95-2cbedf6cb545"
      },
      "source": [
        "seb.countplot(train_data['floors'])"
      ],
      "id": "8fe30b07",
      "execution_count": 9,
      "outputs": [
        {
          "output_type": "stream",
          "name": "stderr",
          "text": [
            "/usr/local/lib/python3.7/dist-packages/seaborn/_decorators.py:43: FutureWarning: Pass the following variable as a keyword arg: x. From version 0.12, the only valid positional argument will be `data`, and passing other arguments without an explicit keyword will result in an error or misinterpretation.\n",
            "  FutureWarning\n"
          ]
        },
        {
          "output_type": "execute_result",
          "data": {
            "text/plain": [
              "<matplotlib.axes._subplots.AxesSubplot at 0x7f379c6a7b50>"
            ]
          },
          "metadata": {},
          "execution_count": 9
        },
        {
          "output_type": "display_data",
          "data": {
            "image/png": "[encoded data removed]",
            "text/plain": [
              "<Figure size 432x288 with 1 Axes>"
            ]
          },
          "metadata": {
            "needs_background": "light"
          }
        }
      ]
    },
    {
      "cell_type": "code",
      "metadata": {
        "id": "b2905aa4",
        "colab": {
          "base_uri": "https://localhost:8080/",
          "height": 351
        },
        "outputId": "8acfd884-e93b-4b48-f590-a6d73591cb48"
      },
      "source": [
        "seb.countplot(train_data['bathrooms'])"
      ],
      "id": "b2905aa4",
      "execution_count": 10,
      "outputs": [
        {
          "output_type": "stream",
          "name": "stderr",
          "text": [
            "/usr/local/lib/python3.7/dist-packages/seaborn/_decorators.py:43: FutureWarning: Pass the following variable as a keyword arg: x. From version 0.12, the only valid positional argument will be `data`, and passing other arguments without an explicit keyword will result in an error or misinterpretation.\n",
            "  FutureWarning\n"
          ]
        },
        {
          "output_type": "execute_result",
          "data": {
            "text/plain": [
              "<matplotlib.axes._subplots.AxesSubplot at 0x7f379c1ef990>"
            ]
          },
          "metadata": {},
          "execution_count": 10
        },
        {
          "output_type": "display_data",
          "data": {
            "image/png": "[encoded data removed]",
            "text/plain": [
              "<Figure size 432x288 with 1 Axes>"
            ]
          },
          "metadata": {
            "needs_background": "light"
          }
        }
      ]
    },
    {
      "cell_type": "code",
      "metadata": {
        "id": "090bd879",
        "colab": {
          "base_uri": "https://localhost:8080/",
          "height": 351
        },
        "outputId": "0f2a95de-9d82-490f-ef61-f7463a930777"
      },
      "source": [
        "seb.countplot(train_data['waterfront'])"
      ],
      "id": "090bd879",
      "execution_count": 11,
      "outputs": [
        {
          "output_type": "stream",
          "name": "stderr",
          "text": [
            "/usr/local/lib/python3.7/dist-packages/seaborn/_decorators.py:43: FutureWarning: Pass the following variable as a keyword arg: x. From version 0.12, the only valid positional argument will be `data`, and passing other arguments without an explicit keyword will result in an error or misinterpretation.\n",
            "  FutureWarning\n"
          ]
        },
        {
          "output_type": "execute_result",
          "data": {
            "text/plain": [
              "<matplotlib.axes._subplots.AxesSubplot at 0x7f379c16a510>"
            ]
          },
          "metadata": {},
          "execution_count": 11
        },
        {
          "output_type": "display_data",
          "data": {
            "image/png": "[encoded data removed]",
            "text/plain": [
              "<Figure size 432x288 with 1 Axes>"
            ]
          },
          "metadata": {
            "needs_background": "light"
          }
        }
      ]
    },
    {
      "cell_type": "code",
      "metadata": {
        "id": "105bf732",
        "colab": {
          "base_uri": "https://localhost:8080/",
          "height": 351
        },
        "outputId": "7b39db42-b271-49ad-e5ee-35d7780e5624"
      },
      "source": [
        "seb.countplot(train_data['grade'])"
      ],
      "id": "105bf732",
      "execution_count": 12,
      "outputs": [
        {
          "output_type": "stream",
          "name": "stderr",
          "text": [
            "/usr/local/lib/python3.7/dist-packages/seaborn/_decorators.py:43: FutureWarning: Pass the following variable as a keyword arg: x. From version 0.12, the only valid positional argument will be `data`, and passing other arguments without an explicit keyword will result in an error or misinterpretation.\n",
            "  FutureWarning\n"
          ]
        },
        {
          "output_type": "execute_result",
          "data": {
            "text/plain": [
              "<matplotlib.axes._subplots.AxesSubplot at 0x7f379c0d5a50>"
            ]
          },
          "metadata": {},
          "execution_count": 12
        },
        {
          "output_type": "display_data",
          "data": {
            "image/png": "[encoded data removed]",
            "text/plain": [
              "<Figure size 432x288 with 1 Axes>"
            ]
          },
          "metadata": {
            "needs_background": "light"
          }
        }
      ]
    },
    {
      "cell_type": "code",
      "metadata": {
        "id": "022ebce9",
        "colab": {
          "base_uri": "https://localhost:8080/",
          "height": 427
        },
        "outputId": "ec6d1cbf-7e11-4416-839f-12f0c7f1b23f"
      },
      "source": [
        "label_enc= LabelEncoder ()\n",
        "\n",
        "data_enc = train_data\n",
        "\n",
        "data_enc.waterfront= label_enc.fit_transform(train_data.waterfront) \n",
        "data_enc.head (10)"
      ],
      "id": "022ebce9",
      "execution_count": 13,
      "outputs": [
        {
          "output_type": "execute_result",
          "data": {
            "text/html": [
              "\n",
              "  <div id=\"df-7f4885c3-56c3-47c2-a31f-0529958dbae2\">\n",
              "    <div class=\"colab-df-container\">\n",
              "      <div>\n",
              "<style scoped>\n",
              "    .dataframe tbody tr th:only-of-type {\n",
              "        vertical-align: middle;\n",
              "    }\n",
              "\n",
              "    .dataframe tbody tr th {\n",
              "        vertical-align: top;\n",
              "    }\n",
              "\n",
              "    .dataframe thead th {\n",
              "        text-align: right;\n",
              "    }\n",
              "</style>\n",
              "<table border=\"1\" class=\"dataframe\">\n",
              "  <thead>\n",
              "    <tr style=\"text-align: right;\">\n",
              "      <th></th>\n",
              "      <th>id</th>\n",
              "      <th>date</th>\n",
              "      <th>bedrooms</th>\n",
              "      <th>bathrooms</th>\n",
              "      <th>sqft_living</th>\n",
              "      <th>sqft_lot</th>\n",
              "      <th>floors</th>\n",
              "      <th>waterfront</th>\n",
              "      <th>view</th>\n",
              "      <th>condition</th>\n",
              "      <th>grade</th>\n",
              "      <th>sqft_above</th>\n",
              "      <th>sqft_basement</th>\n",
              "      <th>yr_built</th>\n",
              "      <th>yr_renovated</th>\n",
              "      <th>zipcode</th>\n",
              "      <th>lat</th>\n",
              "      <th>long</th>\n",
              "      <th>price</th>\n",
              "    </tr>\n",
              "  </thead>\n",
              "  <tbody>\n",
              "    <tr>\n",
              "      <th>0</th>\n",
              "      <td>7129300520</td>\n",
              "      <td>20141013</td>\n",
              "      <td>3</td>\n",
              "      <td>1</td>\n",
              "      <td>1180</td>\n",
              "      <td>5650</td>\n",
              "      <td>1</td>\n",
              "      <td>0</td>\n",
              "      <td>0</td>\n",
              "      <td>3</td>\n",
              "      <td>7</td>\n",
              "      <td>1180</td>\n",
              "      <td>0</td>\n",
              "      <td>1955</td>\n",
              "      <td>1995.0</td>\n",
              "      <td>98178</td>\n",
              "      <td>47.5112</td>\n",
              "      <td>-1227.000</td>\n",
              "      <td>221900</td>\n",
              "    </tr>\n",
              "    <tr>\n",
              "      <th>1</th>\n",
              "      <td>6414100192</td>\n",
              "      <td>20141209</td>\n",
              "      <td>3</td>\n",
              "      <td>2</td>\n",
              "      <td>2570</td>\n",
              "      <td>7242</td>\n",
              "      <td>2</td>\n",
              "      <td>0</td>\n",
              "      <td>0</td>\n",
              "      <td>3</td>\n",
              "      <td>7</td>\n",
              "      <td>2170</td>\n",
              "      <td>400</td>\n",
              "      <td>1951</td>\n",
              "      <td>1991.0</td>\n",
              "      <td>98125</td>\n",
              "      <td>47.7210</td>\n",
              "      <td>-122.319</td>\n",
              "      <td>538000</td>\n",
              "    </tr>\n",
              "    <tr>\n",
              "      <th>2</th>\n",
              "      <td>5631500400</td>\n",
              "      <td>20150225</td>\n",
              "      <td>2</td>\n",
              "      <td>1</td>\n",
              "      <td>770</td>\n",
              "      <td>10000</td>\n",
              "      <td>1</td>\n",
              "      <td>0</td>\n",
              "      <td>0</td>\n",
              "      <td>3</td>\n",
              "      <td>6</td>\n",
              "      <td>770</td>\n",
              "      <td>0</td>\n",
              "      <td>1933</td>\n",
              "      <td>1995.0</td>\n",
              "      <td>98028</td>\n",
              "      <td>47.7379</td>\n",
              "      <td>-122.233</td>\n",
              "      <td>180000</td>\n",
              "    </tr>\n",
              "    <tr>\n",
              "      <th>3</th>\n",
              "      <td>2487200875</td>\n",
              "      <td>20141209</td>\n",
              "      <td>4</td>\n",
              "      <td>3</td>\n",
              "      <td>1960</td>\n",
              "      <td>5000</td>\n",
              "      <td>1</td>\n",
              "      <td>0</td>\n",
              "      <td>0</td>\n",
              "      <td>5</td>\n",
              "      <td>7</td>\n",
              "      <td>1050</td>\n",
              "      <td>910</td>\n",
              "      <td>1965</td>\n",
              "      <td>1995.0</td>\n",
              "      <td>98136</td>\n",
              "      <td>47.5208</td>\n",
              "      <td>-122.393</td>\n",
              "      <td>604000</td>\n",
              "    </tr>\n",
              "    <tr>\n",
              "      <th>4</th>\n",
              "      <td>1954400510</td>\n",
              "      <td>20150218</td>\n",
              "      <td>3</td>\n",
              "      <td>2</td>\n",
              "      <td>1680</td>\n",
              "      <td>8080</td>\n",
              "      <td>1</td>\n",
              "      <td>0</td>\n",
              "      <td>0</td>\n",
              "      <td>3</td>\n",
              "      <td>8</td>\n",
              "      <td>1680</td>\n",
              "      <td>0</td>\n",
              "      <td>1987</td>\n",
              "      <td>1995.0</td>\n",
              "      <td>98074</td>\n",
              "      <td>47.6168</td>\n",
              "      <td>-122.045</td>\n",
              "      <td>510000</td>\n",
              "    </tr>\n",
              "    <tr>\n",
              "      <th>5</th>\n",
              "      <td>7237550310</td>\n",
              "      <td>20140512</td>\n",
              "      <td>4</td>\n",
              "      <td>2</td>\n",
              "      <td>5420</td>\n",
              "      <td>101930</td>\n",
              "      <td>1</td>\n",
              "      <td>0</td>\n",
              "      <td>0</td>\n",
              "      <td>3</td>\n",
              "      <td>10</td>\n",
              "      <td>3890</td>\n",
              "      <td>1530</td>\n",
              "      <td>2001</td>\n",
              "      <td>1995.0</td>\n",
              "      <td>98053</td>\n",
              "      <td>47.6561</td>\n",
              "      <td>-122.005</td>\n",
              "      <td>1225000</td>\n",
              "    </tr>\n",
              "    <tr>\n",
              "      <th>6</th>\n",
              "      <td>1321400060</td>\n",
              "      <td>20140627</td>\n",
              "      <td>3</td>\n",
              "      <td>2</td>\n",
              "      <td>1715</td>\n",
              "      <td>6819</td>\n",
              "      <td>2</td>\n",
              "      <td>0</td>\n",
              "      <td>0</td>\n",
              "      <td>3</td>\n",
              "      <td>7</td>\n",
              "      <td>1715</td>\n",
              "      <td>0</td>\n",
              "      <td>1995</td>\n",
              "      <td>1995.0</td>\n",
              "      <td>98003</td>\n",
              "      <td>47.3097</td>\n",
              "      <td>-122.327</td>\n",
              "      <td>257500</td>\n",
              "    </tr>\n",
              "    <tr>\n",
              "      <th>7</th>\n",
              "      <td>2008000270</td>\n",
              "      <td>20150115</td>\n",
              "      <td>3</td>\n",
              "      <td>2</td>\n",
              "      <td>1060</td>\n",
              "      <td>9711</td>\n",
              "      <td>1</td>\n",
              "      <td>0</td>\n",
              "      <td>0</td>\n",
              "      <td>3</td>\n",
              "      <td>7</td>\n",
              "      <td>1060</td>\n",
              "      <td>0</td>\n",
              "      <td>1963</td>\n",
              "      <td>1995.0</td>\n",
              "      <td>98198</td>\n",
              "      <td>47.4095</td>\n",
              "      <td>-122.315</td>\n",
              "      <td>291850</td>\n",
              "    </tr>\n",
              "    <tr>\n",
              "      <th>8</th>\n",
              "      <td>2414600126</td>\n",
              "      <td>20150415</td>\n",
              "      <td>3</td>\n",
              "      <td>1</td>\n",
              "      <td>1780</td>\n",
              "      <td>7470</td>\n",
              "      <td>1</td>\n",
              "      <td>0</td>\n",
              "      <td>0</td>\n",
              "      <td>3</td>\n",
              "      <td>7</td>\n",
              "      <td>1050</td>\n",
              "      <td>730</td>\n",
              "      <td>1960</td>\n",
              "      <td>1995.0</td>\n",
              "      <td>98146</td>\n",
              "      <td>47.5123</td>\n",
              "      <td>-122.337</td>\n",
              "      <td>229500</td>\n",
              "    </tr>\n",
              "    <tr>\n",
              "      <th>9</th>\n",
              "      <td>3793500160</td>\n",
              "      <td>20150312</td>\n",
              "      <td>3</td>\n",
              "      <td>2</td>\n",
              "      <td>1890</td>\n",
              "      <td>6560</td>\n",
              "      <td>2</td>\n",
              "      <td>0</td>\n",
              "      <td>0</td>\n",
              "      <td>3</td>\n",
              "      <td>7</td>\n",
              "      <td>1890</td>\n",
              "      <td>0</td>\n",
              "      <td>2003</td>\n",
              "      <td>1995.0</td>\n",
              "      <td>98038</td>\n",
              "      <td>47.3684</td>\n",
              "      <td>-122.031</td>\n",
              "      <td>323000</td>\n",
              "    </tr>\n",
              "  </tbody>\n",
              "</table>\n",
              "</div>\n",
              "      <button class=\"colab-df-convert\" onclick=\"convertToInteractive('df-7f4885c3-56c3-47c2-a31f-0529958dbae2')\"\n",
              "              title=\"Convert this dataframe to an interactive table.\"\n",
              "              style=\"display:none;\">\n",
              "        \n",
              "  <svg xmlns=\"http://www.w3.org/2000/svg\" height=\"24px\"viewBox=\"0 0 24 24\"\n",
              "       width=\"24px\">\n",
              "    <path d=\"M0 0h24v24H0V0z\" fill=\"none\"/>\n",
              "    <path d=\"M18.56 5.44l.94 2.06.94-2.06 2.06-.94-2.06-.94-.94-2.06-.94 2.06-2.06.94zm-11 1L8.5 8.5l.94-2.06 2.06-.94-2.06-.94L8.5 2.5l-.94 2.06-2.06.94zm10 10l.94 2.06.94-2.06 2.06-.94-2.06-.94-.94-2.06-.94 2.06-2.06.94z\"/><path d=\"M17.41 7.96l-1.37-1.37c-.4-.4-.92-.59-1.43-.59-.52 0-1.04.2-1.43.59L10.3 9.45l-7.72 7.72c-.78.78-.78 2.05 0 2.83L4 21.41c.39.39.9.59 1.41.59.51 0 1.02-.2 1.41-.59l7.78-7.78 2.81-2.81c.8-.78.8-2.07 0-2.86zM5.41 20L4 18.59l7.72-7.72 1.47 1.35L5.41 20z\"/>\n",
              "  </svg>\n",
              "      </button>\n",
              "      \n",
              "  <style>\n",
              "    .colab-df-container {\n",
              "      display:flex;\n",
              "      flex-wrap:wrap;\n",
              "      gap: 12px;\n",
              "    }\n",
              "\n",
              "    .colab-df-convert {\n",
              "      background-color: #E8F0FE;\n",
              "      border: none;\n",
              "      border-radius: 50%;\n",
              "      cursor: pointer;\n",
              "      display: none;\n",
              "      fill: #1967D2;\n",
              "      height: 32px;\n",
              "      padding: 0 0 0 0;\n",
              "      width: 32px;\n",
              "    }\n",
              "\n",
              "    .colab-df-convert:hover {\n",
              "      background-color: #E2EBFA;\n",
              "      box-shadow: 0px 1px 2px rgba(60, 64, 67, 0.3), 0px 1px 3px 1px rgba(60, 64, 67, 0.15);\n",
              "      fill: #174EA6;\n",
              "    }\n",
              "\n",
              "    [theme=dark] .colab-df-convert {\n",
              "      background-color: #3B4455;\n",
              "      fill: #D2E3FC;\n",
              "    }\n",
              "\n",
              "    [theme=dark] .colab-df-convert:hover {\n",
              "      background-color: #434B5C;\n",
              "      box-shadow: 0px 1px 3px 1px rgba(0, 0, 0, 0.15);\n",
              "      filter: drop-shadow(0px 1px 2px rgba(0, 0, 0, 0.3));\n",
              "      fill: #FFFFFF;\n",
              "    }\n",
              "  </style>\n",
              "\n",
              "      <script>\n",
              "        const buttonEl =\n",
              "          document.querySelector('#df-7f4885c3-56c3-47c2-a31f-0529958dbae2 button.colab-df-convert');\n",
              "        buttonEl.style.display =\n",
              "          google.colab.kernel.accessAllowed ? 'block' : 'none';\n",
              "\n",
              "        async function convertToInteractive(key) {\n",
              "          const element = document.querySelector('#df-7f4885c3-56c3-47c2-a31f-0529958dbae2');\n",
              "          const dataTable =\n",
              "            await google.colab.kernel.invokeFunction('convertToInteractive',\n",
              "                                                     [key], {});\n",
              "          if (!dataTable) return;\n",
              "\n",
              "          const docLinkHtml = 'Like what you see? Visit the ' +\n",
              "            '<a target=\"_blank\" href=https://colab.research.google.com/notebooks/data_table.ipynb>data table notebook</a>'\n",
              "            + ' to learn more about interactive tables.';\n",
              "          element.innerHTML = '';\n",
              "          dataTable['output_type'] = 'display_data';\n",
              "          await google.colab.output.renderOutput(dataTable, element);\n",
              "          const docLink = document.createElement('div');\n",
              "          docLink.innerHTML = docLinkHtml;\n",
              "          element.appendChild(docLink);\n",
              "        }\n",
              "      </script>\n",
              "    </div>\n",
              "  </div>\n",
              "  "
            ],
            "text/plain": [
              "           id      date  bedrooms  ...      lat      long    price\n",
              "0  7129300520  20141013         3  ...  47.5112 -1227.000   221900\n",
              "1  6414100192  20141209         3  ...  47.7210  -122.319   538000\n",
              "2  5631500400  20150225         2  ...  47.7379  -122.233   180000\n",
              "3  2487200875  20141209         4  ...  47.5208  -122.393   604000\n",
              "4  1954400510  20150218         3  ...  47.6168  -122.045   510000\n",
              "5  7237550310  20140512         4  ...  47.6561  -122.005  1225000\n",
              "6  1321400060  20140627         3  ...  47.3097  -122.327   257500\n",
              "7  2008000270  20150115         3  ...  47.4095  -122.315   291850\n",
              "8  2414600126  20150415         3  ...  47.5123  -122.337   229500\n",
              "9  3793500160  20150312         3  ...  47.3684  -122.031   323000\n",
              "\n",
              "[10 rows x 19 columns]"
            ]
          },
          "metadata": {},
          "execution_count": 13
        }
      ]
    },
    {
      "cell_type": "code",
      "metadata": {
        "scrolled": true,
        "id": "ee74fc97",
        "colab": {
          "base_uri": "https://localhost:8080/",
          "height": 709
        },
        "outputId": "c02acd65-c8d5-491e-ab60-1a27cb345bbf"
      },
      "source": [
        "train_data.corr()"
      ],
      "id": "ee74fc97",
      "execution_count": 14,
      "outputs": [
        {
          "output_type": "execute_result",
          "data": {
            "text/html": [
              "\n",
              "  <div id=\"df-554d66f2-fa5e-4e35-864b-8df5ac45c542\">\n",
              "    <div class=\"colab-df-container\">\n",
              "      <div>\n",
              "<style scoped>\n",
              "    .dataframe tbody tr th:only-of-type {\n",
              "        vertical-align: middle;\n",
              "    }\n",
              "\n",
              "    .dataframe tbody tr th {\n",
              "        vertical-align: top;\n",
              "    }\n",
              "\n",
              "    .dataframe thead th {\n",
              "        text-align: right;\n",
              "    }\n",
              "</style>\n",
              "<table border=\"1\" class=\"dataframe\">\n",
              "  <thead>\n",
              "    <tr style=\"text-align: right;\">\n",
              "      <th></th>\n",
              "      <th>id</th>\n",
              "      <th>date</th>\n",
              "      <th>bedrooms</th>\n",
              "      <th>bathrooms</th>\n",
              "      <th>sqft_living</th>\n",
              "      <th>sqft_lot</th>\n",
              "      <th>floors</th>\n",
              "      <th>waterfront</th>\n",
              "      <th>view</th>\n",
              "      <th>condition</th>\n",
              "      <th>grade</th>\n",
              "      <th>sqft_above</th>\n",
              "      <th>sqft_basement</th>\n",
              "      <th>yr_built</th>\n",
              "      <th>yr_renovated</th>\n",
              "      <th>zipcode</th>\n",
              "      <th>lat</th>\n",
              "      <th>long</th>\n",
              "      <th>price</th>\n",
              "    </tr>\n",
              "  </thead>\n",
              "  <tbody>\n",
              "    <tr>\n",
              "      <th>id</th>\n",
              "      <td>1.000000</td>\n",
              "      <td>-0.010762</td>\n",
              "      <td>-0.011548</td>\n",
              "      <td>-0.016311</td>\n",
              "      <td>-0.004928</td>\n",
              "      <td>-0.137410</td>\n",
              "      <td>0.014862</td>\n",
              "      <td>-0.042106</td>\n",
              "      <td>-0.001824</td>\n",
              "      <td>-0.061638</td>\n",
              "      <td>0.019061</td>\n",
              "      <td>-0.004273</td>\n",
              "      <td>-0.002152</td>\n",
              "      <td>0.047656</td>\n",
              "      <td>0.016310</td>\n",
              "      <td>-0.051605</td>\n",
              "      <td>0.002791</td>\n",
              "      <td>0.034272</td>\n",
              "      <td>-0.009977</td>\n",
              "    </tr>\n",
              "    <tr>\n",
              "      <th>date</th>\n",
              "      <td>-0.010762</td>\n",
              "      <td>1.000000</td>\n",
              "      <td>-0.028534</td>\n",
              "      <td>-0.048033</td>\n",
              "      <td>-0.036402</td>\n",
              "      <td>-0.015133</td>\n",
              "      <td>-0.031784</td>\n",
              "      <td>0.012839</td>\n",
              "      <td>-0.026443</td>\n",
              "      <td>-0.006256</td>\n",
              "      <td>-0.033873</td>\n",
              "      <td>-0.028499</td>\n",
              "      <td>-0.021415</td>\n",
              "      <td>-0.016914</td>\n",
              "      <td>-0.007876</td>\n",
              "      <td>0.031447</td>\n",
              "      <td>-0.013912</td>\n",
              "      <td>0.013217</td>\n",
              "      <td>-0.000339</td>\n",
              "    </tr>\n",
              "    <tr>\n",
              "      <th>bedrooms</th>\n",
              "      <td>-0.011548</td>\n",
              "      <td>-0.028534</td>\n",
              "      <td>1.000000</td>\n",
              "      <td>0.411505</td>\n",
              "      <td>0.571282</td>\n",
              "      <td>0.073981</td>\n",
              "      <td>0.169489</td>\n",
              "      <td>-0.049278</td>\n",
              "      <td>0.048496</td>\n",
              "      <td>0.060039</td>\n",
              "      <td>0.369390</td>\n",
              "      <td>0.474588</td>\n",
              "      <td>0.286797</td>\n",
              "      <td>0.134049</td>\n",
              "      <td>-0.004393</td>\n",
              "      <td>-0.184012</td>\n",
              "      <td>-0.021883</td>\n",
              "      <td>-0.006409</td>\n",
              "      <td>0.303599</td>\n",
              "    </tr>\n",
              "    <tr>\n",
              "      <th>bathrooms</th>\n",
              "      <td>-0.016311</td>\n",
              "      <td>-0.048033</td>\n",
              "      <td>0.411505</td>\n",
              "      <td>1.000000</td>\n",
              "      <td>0.601395</td>\n",
              "      <td>0.146873</td>\n",
              "      <td>0.301025</td>\n",
              "      <td>0.078414</td>\n",
              "      <td>0.177024</td>\n",
              "      <td>-0.035326</td>\n",
              "      <td>0.528014</td>\n",
              "      <td>0.510290</td>\n",
              "      <td>0.282650</td>\n",
              "      <td>0.397705</td>\n",
              "      <td>0.021363</td>\n",
              "      <td>-0.192022</td>\n",
              "      <td>0.033754</td>\n",
              "      <td>0.016391</td>\n",
              "      <td>0.425656</td>\n",
              "    </tr>\n",
              "    <tr>\n",
              "      <th>sqft_living</th>\n",
              "      <td>-0.004928</td>\n",
              "      <td>-0.036402</td>\n",
              "      <td>0.571282</td>\n",
              "      <td>0.601395</td>\n",
              "      <td>1.000000</td>\n",
              "      <td>0.214275</td>\n",
              "      <td>0.300259</td>\n",
              "      <td>0.079774</td>\n",
              "      <td>0.287092</td>\n",
              "      <td>-0.012205</td>\n",
              "      <td>0.749524</td>\n",
              "      <td>0.866689</td>\n",
              "      <td>0.437214</td>\n",
              "      <td>0.306083</td>\n",
              "      <td>0.007393</td>\n",
              "      <td>-0.226821</td>\n",
              "      <td>0.094235</td>\n",
              "      <td>0.022583</td>\n",
              "      <td>0.699724</td>\n",
              "    </tr>\n",
              "    <tr>\n",
              "      <th>sqft_lot</th>\n",
              "      <td>-0.137410</td>\n",
              "      <td>-0.015133</td>\n",
              "      <td>0.073981</td>\n",
              "      <td>0.146873</td>\n",
              "      <td>0.214275</td>\n",
              "      <td>1.000000</td>\n",
              "      <td>-0.025371</td>\n",
              "      <td>0.032709</td>\n",
              "      <td>0.044916</td>\n",
              "      <td>-0.018077</td>\n",
              "      <td>0.115099</td>\n",
              "      <td>0.230302</td>\n",
              "      <td>0.013289</td>\n",
              "      <td>0.088226</td>\n",
              "      <td>-0.003742</td>\n",
              "      <td>-0.139370</td>\n",
              "      <td>-0.023058</td>\n",
              "      <td>0.013008</td>\n",
              "      <td>0.126084</td>\n",
              "    </tr>\n",
              "    <tr>\n",
              "      <th>floors</th>\n",
              "      <td>0.014862</td>\n",
              "      <td>-0.031784</td>\n",
              "      <td>0.169489</td>\n",
              "      <td>0.301025</td>\n",
              "      <td>0.300259</td>\n",
              "      <td>-0.025371</td>\n",
              "      <td>1.000000</td>\n",
              "      <td>-0.008230</td>\n",
              "      <td>-0.016383</td>\n",
              "      <td>-0.206813</td>\n",
              "      <td>0.392831</td>\n",
              "      <td>0.487184</td>\n",
              "      <td>-0.277887</td>\n",
              "      <td>0.357227</td>\n",
              "      <td>0.009842</td>\n",
              "      <td>-0.020367</td>\n",
              "      <td>0.088723</td>\n",
              "      <td>0.010945</td>\n",
              "      <td>0.232936</td>\n",
              "    </tr>\n",
              "    <tr>\n",
              "      <th>waterfront</th>\n",
              "      <td>-0.042106</td>\n",
              "      <td>0.012839</td>\n",
              "      <td>-0.049278</td>\n",
              "      <td>0.078414</td>\n",
              "      <td>0.079774</td>\n",
              "      <td>0.032709</td>\n",
              "      <td>-0.008230</td>\n",
              "      <td>1.000000</td>\n",
              "      <td>0.374299</td>\n",
              "      <td>0.051704</td>\n",
              "      <td>0.052926</td>\n",
              "      <td>0.048172</td>\n",
              "      <td>0.072679</td>\n",
              "      <td>-0.021861</td>\n",
              "      <td>-0.000974</td>\n",
              "      <td>0.032525</td>\n",
              "      <td>-0.027314</td>\n",
              "      <td>0.009433</td>\n",
              "      <td>0.275155</td>\n",
              "    </tr>\n",
              "    <tr>\n",
              "      <th>view</th>\n",
              "      <td>-0.001824</td>\n",
              "      <td>-0.026443</td>\n",
              "      <td>0.048496</td>\n",
              "      <td>0.177024</td>\n",
              "      <td>0.287092</td>\n",
              "      <td>0.044916</td>\n",
              "      <td>-0.016383</td>\n",
              "      <td>0.374299</td>\n",
              "      <td>1.000000</td>\n",
              "      <td>0.076940</td>\n",
              "      <td>0.232820</td>\n",
              "      <td>0.141854</td>\n",
              "      <td>0.318367</td>\n",
              "      <td>-0.044622</td>\n",
              "      <td>-0.003092</td>\n",
              "      <td>0.068921</td>\n",
              "      <td>0.012368</td>\n",
              "      <td>-0.009300</td>\n",
              "      <td>0.428553</td>\n",
              "    </tr>\n",
              "    <tr>\n",
              "      <th>condition</th>\n",
              "      <td>-0.061638</td>\n",
              "      <td>-0.006256</td>\n",
              "      <td>0.060039</td>\n",
              "      <td>-0.035326</td>\n",
              "      <td>-0.012205</td>\n",
              "      <td>-0.018077</td>\n",
              "      <td>-0.206813</td>\n",
              "      <td>0.051704</td>\n",
              "      <td>0.076940</td>\n",
              "      <td>1.000000</td>\n",
              "      <td>-0.085566</td>\n",
              "      <td>-0.106407</td>\n",
              "      <td>0.167431</td>\n",
              "      <td>-0.339413</td>\n",
              "      <td>-0.007694</td>\n",
              "      <td>0.034816</td>\n",
              "      <td>-0.050107</td>\n",
              "      <td>0.002231</td>\n",
              "      <td>0.059768</td>\n",
              "    </tr>\n",
              "    <tr>\n",
              "      <th>grade</th>\n",
              "      <td>0.019061</td>\n",
              "      <td>-0.033873</td>\n",
              "      <td>0.369390</td>\n",
              "      <td>0.528014</td>\n",
              "      <td>0.749524</td>\n",
              "      <td>0.115099</td>\n",
              "      <td>0.392831</td>\n",
              "      <td>0.052926</td>\n",
              "      <td>0.232820</td>\n",
              "      <td>-0.085566</td>\n",
              "      <td>1.000000</td>\n",
              "      <td>0.734557</td>\n",
              "      <td>0.174544</td>\n",
              "      <td>0.450560</td>\n",
              "      <td>0.014208</td>\n",
              "      <td>-0.196104</td>\n",
              "      <td>0.123797</td>\n",
              "      <td>0.024042</td>\n",
              "      <td>0.627424</td>\n",
              "    </tr>\n",
              "    <tr>\n",
              "      <th>sqft_above</th>\n",
              "      <td>-0.004273</td>\n",
              "      <td>-0.028499</td>\n",
              "      <td>0.474588</td>\n",
              "      <td>0.510290</td>\n",
              "      <td>0.866689</td>\n",
              "      <td>0.230302</td>\n",
              "      <td>0.487184</td>\n",
              "      <td>0.048172</td>\n",
              "      <td>0.141854</td>\n",
              "      <td>-0.106407</td>\n",
              "      <td>0.734557</td>\n",
              "      <td>1.000000</td>\n",
              "      <td>-0.069714</td>\n",
              "      <td>0.409371</td>\n",
              "      <td>0.001118</td>\n",
              "      <td>-0.267220</td>\n",
              "      <td>0.028908</td>\n",
              "      <td>0.008110</td>\n",
              "      <td>0.587984</td>\n",
              "    </tr>\n",
              "    <tr>\n",
              "      <th>sqft_basement</th>\n",
              "      <td>-0.002152</td>\n",
              "      <td>-0.021415</td>\n",
              "      <td>0.286797</td>\n",
              "      <td>0.282650</td>\n",
              "      <td>0.437214</td>\n",
              "      <td>0.013289</td>\n",
              "      <td>-0.277887</td>\n",
              "      <td>0.072679</td>\n",
              "      <td>0.318367</td>\n",
              "      <td>0.167431</td>\n",
              "      <td>0.174544</td>\n",
              "      <td>-0.069714</td>\n",
              "      <td>1.000000</td>\n",
              "      <td>-0.125955</td>\n",
              "      <td>0.012767</td>\n",
              "      <td>0.028179</td>\n",
              "      <td>0.136328</td>\n",
              "      <td>0.030539</td>\n",
              "      <td>0.339209</td>\n",
              "    </tr>\n",
              "    <tr>\n",
              "      <th>yr_built</th>\n",
              "      <td>0.047656</td>\n",
              "      <td>-0.016914</td>\n",
              "      <td>0.134049</td>\n",
              "      <td>0.397705</td>\n",
              "      <td>0.306083</td>\n",
              "      <td>0.088226</td>\n",
              "      <td>0.357227</td>\n",
              "      <td>-0.021861</td>\n",
              "      <td>-0.044622</td>\n",
              "      <td>-0.339413</td>\n",
              "      <td>0.450560</td>\n",
              "      <td>0.409371</td>\n",
              "      <td>-0.125955</td>\n",
              "      <td>1.000000</td>\n",
              "      <td>-0.023305</td>\n",
              "      <td>-0.373272</td>\n",
              "      <td>-0.161404</td>\n",
              "      <td>-0.036948</td>\n",
              "      <td>0.039275</td>\n",
              "    </tr>\n",
              "    <tr>\n",
              "      <th>yr_renovated</th>\n",
              "      <td>0.016310</td>\n",
              "      <td>-0.007876</td>\n",
              "      <td>-0.004393</td>\n",
              "      <td>0.021363</td>\n",
              "      <td>0.007393</td>\n",
              "      <td>-0.003742</td>\n",
              "      <td>0.009842</td>\n",
              "      <td>-0.000974</td>\n",
              "      <td>-0.003092</td>\n",
              "      <td>-0.007694</td>\n",
              "      <td>0.014208</td>\n",
              "      <td>0.001118</td>\n",
              "      <td>0.012767</td>\n",
              "      <td>-0.023305</td>\n",
              "      <td>1.000000</td>\n",
              "      <td>0.006488</td>\n",
              "      <td>0.008882</td>\n",
              "      <td>0.001352</td>\n",
              "      <td>0.014177</td>\n",
              "    </tr>\n",
              "    <tr>\n",
              "      <th>zipcode</th>\n",
              "      <td>-0.051605</td>\n",
              "      <td>0.031447</td>\n",
              "      <td>-0.184012</td>\n",
              "      <td>-0.192022</td>\n",
              "      <td>-0.226821</td>\n",
              "      <td>-0.139370</td>\n",
              "      <td>-0.020367</td>\n",
              "      <td>0.032525</td>\n",
              "      <td>0.068921</td>\n",
              "      <td>0.034816</td>\n",
              "      <td>-0.196104</td>\n",
              "      <td>-0.267220</td>\n",
              "      <td>0.028179</td>\n",
              "      <td>-0.373272</td>\n",
              "      <td>0.006488</td>\n",
              "      <td>1.000000</td>\n",
              "      <td>0.265501</td>\n",
              "      <td>0.009277</td>\n",
              "      <td>-0.051247</td>\n",
              "    </tr>\n",
              "    <tr>\n",
              "      <th>lat</th>\n",
              "      <td>0.002791</td>\n",
              "      <td>-0.013912</td>\n",
              "      <td>-0.021883</td>\n",
              "      <td>0.033754</td>\n",
              "      <td>0.094235</td>\n",
              "      <td>-0.023058</td>\n",
              "      <td>0.088723</td>\n",
              "      <td>-0.027314</td>\n",
              "      <td>0.012368</td>\n",
              "      <td>-0.050107</td>\n",
              "      <td>0.123797</td>\n",
              "      <td>0.028908</td>\n",
              "      <td>0.136328</td>\n",
              "      <td>-0.161404</td>\n",
              "      <td>0.008882</td>\n",
              "      <td>0.265501</td>\n",
              "      <td>1.000000</td>\n",
              "      <td>0.076498</td>\n",
              "      <td>0.353265</td>\n",
              "    </tr>\n",
              "    <tr>\n",
              "      <th>long</th>\n",
              "      <td>0.034272</td>\n",
              "      <td>0.013217</td>\n",
              "      <td>-0.006409</td>\n",
              "      <td>0.016391</td>\n",
              "      <td>0.022583</td>\n",
              "      <td>0.013008</td>\n",
              "      <td>0.010945</td>\n",
              "      <td>0.009433</td>\n",
              "      <td>-0.009300</td>\n",
              "      <td>0.002231</td>\n",
              "      <td>0.024042</td>\n",
              "      <td>0.008110</td>\n",
              "      <td>0.030539</td>\n",
              "      <td>-0.036948</td>\n",
              "      <td>0.001352</td>\n",
              "      <td>0.009277</td>\n",
              "      <td>0.076498</td>\n",
              "      <td>1.000000</td>\n",
              "      <td>0.047649</td>\n",
              "    </tr>\n",
              "    <tr>\n",
              "      <th>price</th>\n",
              "      <td>-0.009977</td>\n",
              "      <td>-0.000339</td>\n",
              "      <td>0.303599</td>\n",
              "      <td>0.425656</td>\n",
              "      <td>0.699724</td>\n",
              "      <td>0.126084</td>\n",
              "      <td>0.232936</td>\n",
              "      <td>0.275155</td>\n",
              "      <td>0.428553</td>\n",
              "      <td>0.059768</td>\n",
              "      <td>0.627424</td>\n",
              "      <td>0.587984</td>\n",
              "      <td>0.339209</td>\n",
              "      <td>0.039275</td>\n",
              "      <td>0.014177</td>\n",
              "      <td>-0.051247</td>\n",
              "      <td>0.353265</td>\n",
              "      <td>0.047649</td>\n",
              "      <td>1.000000</td>\n",
              "    </tr>\n",
              "  </tbody>\n",
              "</table>\n",
              "</div>\n",
              "      <button class=\"colab-df-convert\" onclick=\"convertToInteractive('df-554d66f2-fa5e-4e35-864b-8df5ac45c542')\"\n",
              "              title=\"Convert this dataframe to an interactive table.\"\n",
              "              style=\"display:none;\">\n",
              "        \n",
              "  <svg xmlns=\"http://www.w3.org/2000/svg\" height=\"24px\"viewBox=\"0 0 24 24\"\n",
              "       width=\"24px\">\n",
              "    <path d=\"M0 0h24v24H0V0z\" fill=\"none\"/>\n",
              "    <path d=\"M18.56 5.44l.94 2.06.94-2.06 2.06-.94-2.06-.94-.94-2.06-.94 2.06-2.06.94zm-11 1L8.5 8.5l.94-2.06 2.06-.94-2.06-.94L8.5 2.5l-.94 2.06-2.06.94zm10 10l.94 2.06.94-2.06 2.06-.94-2.06-.94-.94-2.06-.94 2.06-2.06.94z\"/><path d=\"M17.41 7.96l-1.37-1.37c-.4-.4-.92-.59-1.43-.59-.52 0-1.04.2-1.43.59L10.3 9.45l-7.72 7.72c-.78.78-.78 2.05 0 2.83L4 21.41c.39.39.9.59 1.41.59.51 0 1.02-.2 1.41-.59l7.78-7.78 2.81-2.81c.8-.78.8-2.07 0-2.86zM5.41 20L4 18.59l7.72-7.72 1.47 1.35L5.41 20z\"/>\n",
              "  </svg>\n",
              "      </button>\n",
              "      \n",
              "  <style>\n",
              "    .colab-df-container {\n",
              "      display:flex;\n",
              "      flex-wrap:wrap;\n",
              "      gap: 12px;\n",
              "    }\n",
              "\n",
              "    .colab-df-convert {\n",
              "      background-color: #E8F0FE;\n",
              "      border: none;\n",
              "      border-radius: 50%;\n",
              "      cursor: pointer;\n",
              "      display: none;\n",
              "      fill: #1967D2;\n",
              "      height: 32px;\n",
              "      padding: 0 0 0 0;\n",
              "      width: 32px;\n",
              "    }\n",
              "\n",
              "    .colab-df-convert:hover {\n",
              "      background-color: #E2EBFA;\n",
              "      box-shadow: 0px 1px 2px rgba(60, 64, 67, 0.3), 0px 1px 3px 1px rgba(60, 64, 67, 0.15);\n",
              "      fill: #174EA6;\n",
              "    }\n",
              "\n",
              "    [theme=dark] .colab-df-convert {\n",
              "      background-color: #3B4455;\n",
              "      fill: #D2E3FC;\n",
              "    }\n",
              "\n",
              "    [theme=dark] .colab-df-convert:hover {\n",
              "      background-color: #434B5C;\n",
              "      box-shadow: 0px 1px 3px 1px rgba(0, 0, 0, 0.15);\n",
              "      filter: drop-shadow(0px 1px 2px rgba(0, 0, 0, 0.3));\n",
              "      fill: #FFFFFF;\n",
              "    }\n",
              "  </style>\n",
              "\n",
              "      <script>\n",
              "        const buttonEl =\n",
              "          document.querySelector('#df-554d66f2-fa5e-4e35-864b-8df5ac45c542 button.colab-df-convert');\n",
              "        buttonEl.style.display =\n",
              "          google.colab.kernel.accessAllowed ? 'block' : 'none';\n",
              "\n",
              "        async function convertToInteractive(key) {\n",
              "          const element = document.querySelector('#df-554d66f2-fa5e-4e35-864b-8df5ac45c542');\n",
              "          const dataTable =\n",
              "            await google.colab.kernel.invokeFunction('convertToInteractive',\n",
              "                                                     [key], {});\n",
              "          if (!dataTable) return;\n",
              "\n",
              "          const docLinkHtml = 'Like what you see? Visit the ' +\n",
              "            '<a target=\"_blank\" href=https://colab.research.google.com/notebooks/data_table.ipynb>data table notebook</a>'\n",
              "            + ' to learn more about interactive tables.';\n",
              "          element.innerHTML = '';\n",
              "          dataTable['output_type'] = 'display_data';\n",
              "          await google.colab.output.renderOutput(dataTable, element);\n",
              "          const docLink = document.createElement('div');\n",
              "          docLink.innerHTML = docLinkHtml;\n",
              "          element.appendChild(docLink);\n",
              "        }\n",
              "      </script>\n",
              "    </div>\n",
              "  </div>\n",
              "  "
            ],
            "text/plain": [
              "                     id      date  bedrooms  ...       lat      long     price\n",
              "id             1.000000 -0.010762 -0.011548  ...  0.002791  0.034272 -0.009977\n",
              "date          -0.010762  1.000000 -0.028534  ... -0.013912  0.013217 -0.000339\n",
              "bedrooms      -0.011548 -0.028534  1.000000  ... -0.021883 -0.006409  0.303599\n",
              "bathrooms     -0.016311 -0.048033  0.411505  ...  0.033754  0.016391  0.425656\n",
              "sqft_living   -0.004928 -0.036402  0.571282  ...  0.094235  0.022583  0.699724\n",
              "sqft_lot      -0.137410 -0.015133  0.073981  ... -0.023058  0.013008  0.126084\n",
              "floors         0.014862 -0.031784  0.169489  ...  0.088723  0.010945  0.232936\n",
              "waterfront    -0.042106  0.012839 -0.049278  ... -0.027314  0.009433  0.275155\n",
              "view          -0.001824 -0.026443  0.048496  ...  0.012368 -0.009300  0.428553\n",
              "condition     -0.061638 -0.006256  0.060039  ... -0.050107  0.002231  0.059768\n",
              "grade          0.019061 -0.033873  0.369390  ...  0.123797  0.024042  0.627424\n",
              "sqft_above    -0.004273 -0.028499  0.474588  ...  0.028908  0.008110  0.587984\n",
              "sqft_basement -0.002152 -0.021415  0.286797  ...  0.136328  0.030539  0.339209\n",
              "yr_built       0.047656 -0.016914  0.134049  ... -0.161404 -0.036948  0.039275\n",
              "yr_renovated   0.016310 -0.007876 -0.004393  ...  0.008882  0.001352  0.014177\n",
              "zipcode       -0.051605  0.031447 -0.184012  ...  0.265501  0.009277 -0.051247\n",
              "lat            0.002791 -0.013912 -0.021883  ...  1.000000  0.076498  0.353265\n",
              "long           0.034272  0.013217 -0.006409  ...  0.076498  1.000000  0.047649\n",
              "price         -0.009977 -0.000339  0.303599  ...  0.353265  0.047649  1.000000\n",
              "\n",
              "[19 rows x 19 columns]"
            ]
          },
          "metadata": {},
          "execution_count": 14
        }
      ]
    },
    {
      "cell_type": "code",
      "metadata": {
        "id": "874d1731",
        "colab": {
          "base_uri": "https://localhost:8080/",
          "height": 894
        },
        "outputId": "566be3b8-56e7-4fae-e6d3-19dcea42fa0b"
      },
      "source": [
        "plt.figure(figsize=(14,14))\n",
        "seb.heatmap(train_data.corr(),annot=True,cmap='YlGnBu')"
      ],
      "id": "874d1731",
      "execution_count": 15,
      "outputs": [
        {
          "output_type": "execute_result",
          "data": {
            "text/plain": [
              "<matplotlib.axes._subplots.AxesSubplot at 0x7f379c044b10>"
            ]
          },
          "metadata": {},
          "execution_count": 15
        },
        {
          "output_type": "display_data",
          "data": {
            "image/png": "[encoded data removed]",
            "text/plain": [
              "<Figure size 1008x1008 with 2 Axes>"
            ]
          },
          "metadata": {
            "needs_background": "light"
          }
        }
      ]
    },
    {
      "cell_type": "code",
      "metadata": {
        "id": "e87e0f80"
      },
      "source": [
        "X=train_data.drop(['price'],axis=1)\n",
        "y=train_data.price"
      ],
      "id": "e87e0f80",
      "execution_count": 16,
      "outputs": []
    },
    {
      "cell_type": "code",
      "metadata": {
        "id": "0d65faec",
        "colab": {
          "base_uri": "https://localhost:8080/"
        },
        "outputId": "549ec37d-66ff-4db0-8b08-deeb9f1554e6"
      },
      "source": [
        "from sklearn.model_selection import train_test_split\n",
        "X_train,X_test,y_train,y_test=train_test_split(X,y,test_size=0.25,random_state=0)\n",
        "print(X_train.shape)\n",
        "print(X_test.shape)\n",
        "print(y_train.shape)\n",
        "print(y_test.shape)"
      ],
      "id": "0d65faec",
      "execution_count": 17,
      "outputs": [
        {
          "output_type": "stream",
          "name": "stdout",
          "text": [
            "(12685, 18)\n",
            "(4229, 18)\n",
            "(12685,)\n",
            "(4229,)\n"
          ]
        }
      ]
    },
    {
      "cell_type": "code",
      "metadata": {
        "id": "2e7ee33f",
        "colab": {
          "base_uri": "https://localhost:8080/"
        },
        "outputId": "c0dfab60-acf8-4c28-9bdc-9838ef50eb1e"
      },
      "source": [
        "#1LINEAR REGRESSION\n",
        "from sklearn.linear_model import LinearRegression\n",
        "lm=LinearRegression() \n",
        "lm.fit(X_train,y_train)"
      ],
      "id": "2e7ee33f",
      "execution_count": 18,
      "outputs": [
        {
          "output_type": "execute_result",
          "data": {
            "text/plain": [
              "LinearRegression()"
            ]
          },
          "metadata": {},
          "execution_count": 18
        }
      ]
    },
    {
      "cell_type": "code",
      "metadata": {
        "id": "ab09ab3d",
        "colab": {
          "base_uri": "https://localhost:8080/"
        },
        "outputId": "b37ee4e6-c400-4412-f50a-3301cc126d0a"
      },
      "source": [
        "print(lm.intercept_)\n",
        "lm.coef_"
      ],
      "id": "ab09ab3d",
      "execution_count": 19,
      "outputs": [
        {
          "output_type": "stream",
          "name": "stdout",
          "text": [
            "-33767304.94019175\n"
          ]
        },
        {
          "output_type": "execute_result",
          "data": {
            "text/plain": [
              "array([ 5.88233281e-07,  2.15754209e+00, -2.47506127e+04,  2.73099272e+04,\n",
              "        1.14264864e+02, -2.37658193e-02,  2.05392556e+04,  7.20903847e+05,\n",
              "        7.29703986e+04,  1.45794269e+04,  8.03617001e+04,  6.94519700e+01,\n",
              "        4.48128937e+01, -2.45879731e+03, -1.75639354e-09, -3.48315771e+02,\n",
              "        6.05246026e+05,  9.67777415e+00])"
            ]
          },
          "metadata": {},
          "execution_count": 19
        }
      ]
    },
    {
      "cell_type": "code",
      "metadata": {
        "id": "c902e664",
        "colab": {
          "base_uri": "https://localhost:8080/",
          "height": 614
        },
        "outputId": "edd56b3c-f036-417b-e417-a615205ae12a"
      },
      "source": [
        "coefficients=pd.DataFrame([X_train.columns, lm.coef_]).T\n",
        "\n",
        "coefficients"
      ],
      "id": "c902e664",
      "execution_count": 20,
      "outputs": [
        {
          "output_type": "execute_result",
          "data": {
            "text/html": [
              "\n",
              "  <div id=\"df-31b2dcc0-d727-4410-87e5-d540982bfa50\">\n",
              "    <div class=\"colab-df-container\">\n",
              "      <div>\n",
              "<style scoped>\n",
              "    .dataframe tbody tr th:only-of-type {\n",
              "        vertical-align: middle;\n",
              "    }\n",
              "\n",
              "    .dataframe tbody tr th {\n",
              "        vertical-align: top;\n",
              "    }\n",
              "\n",
              "    .dataframe thead th {\n",
              "        text-align: right;\n",
              "    }\n",
              "</style>\n",
              "<table border=\"1\" class=\"dataframe\">\n",
              "  <thead>\n",
              "    <tr style=\"text-align: right;\">\n",
              "      <th></th>\n",
              "      <th>0</th>\n",
              "      <th>1</th>\n",
              "    </tr>\n",
              "  </thead>\n",
              "  <tbody>\n",
              "    <tr>\n",
              "      <th>0</th>\n",
              "      <td>id</td>\n",
              "      <td>5.88233e-07</td>\n",
              "    </tr>\n",
              "    <tr>\n",
              "      <th>1</th>\n",
              "      <td>date</td>\n",
              "      <td>2.15754</td>\n",
              "    </tr>\n",
              "    <tr>\n",
              "      <th>2</th>\n",
              "      <td>bedrooms</td>\n",
              "      <td>-24750.6</td>\n",
              "    </tr>\n",
              "    <tr>\n",
              "      <th>3</th>\n",
              "      <td>bathrooms</td>\n",
              "      <td>27309.9</td>\n",
              "    </tr>\n",
              "    <tr>\n",
              "      <th>4</th>\n",
              "      <td>sqft_living</td>\n",
              "      <td>114.265</td>\n",
              "    </tr>\n",
              "    <tr>\n",
              "      <th>5</th>\n",
              "      <td>sqft_lot</td>\n",
              "      <td>-0.0237658</td>\n",
              "    </tr>\n",
              "    <tr>\n",
              "      <th>6</th>\n",
              "      <td>floors</td>\n",
              "      <td>20539.3</td>\n",
              "    </tr>\n",
              "    <tr>\n",
              "      <th>7</th>\n",
              "      <td>waterfront</td>\n",
              "      <td>720904</td>\n",
              "    </tr>\n",
              "    <tr>\n",
              "      <th>8</th>\n",
              "      <td>view</td>\n",
              "      <td>72970.4</td>\n",
              "    </tr>\n",
              "    <tr>\n",
              "      <th>9</th>\n",
              "      <td>condition</td>\n",
              "      <td>14579.4</td>\n",
              "    </tr>\n",
              "    <tr>\n",
              "      <th>10</th>\n",
              "      <td>grade</td>\n",
              "      <td>80361.7</td>\n",
              "    </tr>\n",
              "    <tr>\n",
              "      <th>11</th>\n",
              "      <td>sqft_above</td>\n",
              "      <td>69.452</td>\n",
              "    </tr>\n",
              "    <tr>\n",
              "      <th>12</th>\n",
              "      <td>sqft_basement</td>\n",
              "      <td>44.8129</td>\n",
              "    </tr>\n",
              "    <tr>\n",
              "      <th>13</th>\n",
              "      <td>yr_built</td>\n",
              "      <td>-2458.8</td>\n",
              "    </tr>\n",
              "    <tr>\n",
              "      <th>14</th>\n",
              "      <td>yr_renovated</td>\n",
              "      <td>-1.75639e-09</td>\n",
              "    </tr>\n",
              "    <tr>\n",
              "      <th>15</th>\n",
              "      <td>zipcode</td>\n",
              "      <td>-348.316</td>\n",
              "    </tr>\n",
              "    <tr>\n",
              "      <th>16</th>\n",
              "      <td>lat</td>\n",
              "      <td>605246</td>\n",
              "    </tr>\n",
              "    <tr>\n",
              "      <th>17</th>\n",
              "      <td>long</td>\n",
              "      <td>9.67777</td>\n",
              "    </tr>\n",
              "  </tbody>\n",
              "</table>\n",
              "</div>\n",
              "      <button class=\"colab-df-convert\" onclick=\"convertToInteractive('df-31b2dcc0-d727-4410-87e5-d540982bfa50')\"\n",
              "              title=\"Convert this dataframe to an interactive table.\"\n",
              "              style=\"display:none;\">\n",
              "        \n",
              "  <svg xmlns=\"http://www.w3.org/2000/svg\" height=\"24px\"viewBox=\"0 0 24 24\"\n",
              "       width=\"24px\">\n",
              "    <path d=\"M0 0h24v24H0V0z\" fill=\"none\"/>\n",
              "    <path d=\"M18.56 5.44l.94 2.06.94-2.06 2.06-.94-2.06-.94-.94-2.06-.94 2.06-2.06.94zm-11 1L8.5 8.5l.94-2.06 2.06-.94-2.06-.94L8.5 2.5l-.94 2.06-2.06.94zm10 10l.94 2.06.94-2.06 2.06-.94-2.06-.94-.94-2.06-.94 2.06-2.06.94z\"/><path d=\"M17.41 7.96l-1.37-1.37c-.4-.4-.92-.59-1.43-.59-.52 0-1.04.2-1.43.59L10.3 9.45l-7.72 7.72c-.78.78-.78 2.05 0 2.83L4 21.41c.39.39.9.59 1.41.59.51 0 1.02-.2 1.41-.59l7.78-7.78 2.81-2.81c.8-.78.8-2.07 0-2.86zM5.41 20L4 18.59l7.72-7.72 1.47 1.35L5.41 20z\"/>\n",
              "  </svg>\n",
              "      </button>\n",
              "      \n",
              "  <style>\n",
              "    .colab-df-container {\n",
              "      display:flex;\n",
              "      flex-wrap:wrap;\n",
              "      gap: 12px;\n",
              "    }\n",
              "\n",
              "    .colab-df-convert {\n",
              "      background-color: #E8F0FE;\n",
              "      border: none;\n",
              "      border-radius: 50%;\n",
              "      cursor: pointer;\n",
              "      display: none;\n",
              "      fill: #1967D2;\n",
              "      height: 32px;\n",
              "      padding: 0 0 0 0;\n",
              "      width: 32px;\n",
              "    }\n",
              "\n",
              "    .colab-df-convert:hover {\n",
              "      background-color: #E2EBFA;\n",
              "      box-shadow: 0px 1px 2px rgba(60, 64, 67, 0.3), 0px 1px 3px 1px rgba(60, 64, 67, 0.15);\n",
              "      fill: #174EA6;\n",
              "    }\n",
              "\n",
              "    [theme=dark] .colab-df-convert {\n",
              "      background-color: #3B4455;\n",
              "      fill: #D2E3FC;\n",
              "    }\n",
              "\n",
              "    [theme=dark] .colab-df-convert:hover {\n",
              "      background-color: #434B5C;\n",
              "      box-shadow: 0px 1px 3px 1px rgba(0, 0, 0, 0.15);\n",
              "      filter: drop-shadow(0px 1px 2px rgba(0, 0, 0, 0.3));\n",
              "      fill: #FFFFFF;\n",
              "    }\n",
              "  </style>\n",
              "\n",
              "      <script>\n",
              "        const buttonEl =\n",
              "          document.querySelector('#df-31b2dcc0-d727-4410-87e5-d540982bfa50 button.colab-df-convert');\n",
              "        buttonEl.style.display =\n",
              "          google.colab.kernel.accessAllowed ? 'block' : 'none';\n",
              "\n",
              "        async function convertToInteractive(key) {\n",
              "          const element = document.querySelector('#df-31b2dcc0-d727-4410-87e5-d540982bfa50');\n",
              "          const dataTable =\n",
              "            await google.colab.kernel.invokeFunction('convertToInteractive',\n",
              "                                                     [key], {});\n",
              "          if (!dataTable) return;\n",
              "\n",
              "          const docLinkHtml = 'Like what you see? Visit the ' +\n",
              "            '<a target=\"_blank\" href=https://colab.research.google.com/notebooks/data_table.ipynb>data table notebook</a>'\n",
              "            + ' to learn more about interactive tables.';\n",
              "          element.innerHTML = '';\n",
              "          dataTable['output_type'] = 'display_data';\n",
              "          await google.colab.output.renderOutput(dataTable, element);\n",
              "          const docLink = document.createElement('div');\n",
              "          docLink.innerHTML = docLinkHtml;\n",
              "          element.appendChild(docLink);\n",
              "        }\n",
              "      </script>\n",
              "    </div>\n",
              "  </div>\n",
              "  "
            ],
            "text/plain": [
              "                0            1\n",
              "0              id  5.88233e-07\n",
              "1            date      2.15754\n",
              "2        bedrooms     -24750.6\n",
              "3       bathrooms      27309.9\n",
              "4     sqft_living      114.265\n",
              "5        sqft_lot   -0.0237658\n",
              "6          floors      20539.3\n",
              "7      waterfront       720904\n",
              "8            view      72970.4\n",
              "9       condition      14579.4\n",
              "10          grade      80361.7\n",
              "11     sqft_above       69.452\n",
              "12  sqft_basement      44.8129\n",
              "13       yr_built      -2458.8\n",
              "14   yr_renovated -1.75639e-09\n",
              "15        zipcode     -348.316\n",
              "16            lat       605246\n",
              "17           long      9.67777"
            ]
          },
          "metadata": {},
          "execution_count": 20
        }
      ]
    },
    {
      "cell_type": "code",
      "metadata": {
        "id": "ff979964",
        "colab": {
          "base_uri": "https://localhost:8080/"
        },
        "outputId": "91d84dfb-1ffd-43c7-828b-eb6d3f816a09"
      },
      "source": [
        "y_train_pred= lm.predict(X_train)\n",
        "y_train_pred"
      ],
      "id": "ff979964",
      "execution_count": 21,
      "outputs": [
        {
          "output_type": "execute_result",
          "data": {
            "text/plain": [
              "array([402337.17967144, 139548.06142335, 597384.36056792, ...,\n",
              "       470297.30789516, 539161.20752347, 553696.93050064])"
            ]
          },
          "metadata": {},
          "execution_count": 21
        }
      ]
    },
    {
      "cell_type": "code",
      "metadata": {
        "id": "142659ed",
        "colab": {
          "base_uri": "https://localhost:8080/"
        },
        "outputId": "6a3a3904-638c-4e8e-f4af-47e93b3c1c0c"
      },
      "source": [
        "from sklearn.metrics import r2_score\n",
        "print(\"R^2:\",r2_score(y_train,y_train_pred))\n",
        "print(\"Adjusted R^2:\",1-(1-r2_score(y_train,y_train_pred))*(len(X_train)-1)/(len(X_train)-X_train.shape[1]-1))"
      ],
      "id": "142659ed",
      "execution_count": 23,
      "outputs": [
        {
          "output_type": "stream",
          "name": "stdout",
          "text": [
            "R^2: 0.7052419493142296\n",
            "Adjusted R^2: 0.7048230605638471\n"
          ]
        }
      ]
    },
    {
      "cell_type": "code",
      "metadata": {
        "id": "170acb4a",
        "colab": {
          "base_uri": "https://localhost:8080/",
          "height": 362
        },
        "outputId": "76d98954-ce45-42f8-f757-b272dac0ad83"
      },
      "source": [
        "seb.regplot(y_train,y_train_pred)"
      ],
      "id": "170acb4a",
      "execution_count": 24,
      "outputs": [
        {
          "output_type": "stream",
          "name": "stderr",
          "text": [
            "/usr/local/lib/python3.7/dist-packages/seaborn/_decorators.py:43: FutureWarning: Pass the following variables as keyword args: x, y. From version 0.12, the only valid positional argument will be `data`, and passing other arguments without an explicit keyword will result in an error or misinterpretation.\n",
            "  FutureWarning\n"
          ]
        },
        {
          "output_type": "execute_result",
          "data": {
            "text/plain": [
              "<matplotlib.axes._subplots.AxesSubplot at 0x7f37933f3610>"
            ]
          },
          "metadata": {},
          "execution_count": 24
        },
        {
          "output_type": "display_data",
          "data": {
            "image/png": "[encoded data removed]",
            "text/plain": [
              "<Figure size 432x288 with 1 Axes>"
            ]
          },
          "metadata": {
            "needs_background": "light"
          }
        }
      ]
    },
    {
      "cell_type": "code",
      "metadata": {
        "id": "cb3f75a0",
        "colab": {
          "base_uri": "https://localhost:8080/",
          "height": 307
        },
        "outputId": "9f82784f-159a-4e6b-ac84-696f8bfaa3d2"
      },
      "source": [
        "plt.scatter(y_train,y_train_pred)\n",
        "plt.xlabel('Purchase')\n",
        "plt.ylabel('model predicted purchase')"
      ],
      "id": "cb3f75a0",
      "execution_count": 25,
      "outputs": [
        {
          "output_type": "execute_result",
          "data": {
            "text/plain": [
              "Text(0, 0.5, 'model predicted purchase')"
            ]
          },
          "metadata": {},
          "execution_count": 25
        },
        {
          "output_type": "display_data",
          "data": {
            "image/png": "[encoded data removed]",
            "text/plain": [
              "<Figure size 432x288 with 1 Axes>"
            ]
          },
          "metadata": {
            "needs_background": "light"
          }
        }
      ]
    },
    {
      "cell_type": "code",
      "metadata": {
        "id": "02376d5f",
        "colab": {
          "base_uri": "https://localhost:8080/"
        },
        "outputId": "1349d3b4-e9a9-4ade-fd83-f99b7fb5561b"
      },
      "source": [
        "y_test_pred=lm.predict(X_test)\n",
        "y_test_pred"
      ],
      "id": "02376d5f",
      "execution_count": 27,
      "outputs": [
        {
          "output_type": "execute_result",
          "data": {
            "text/plain": [
              "array([863080.11138503, 438150.51750585, 146233.2934192 , ...,\n",
              "       759515.728116  , 153833.13146548, 446720.38254958])"
            ]
          },
          "metadata": {},
          "execution_count": 27
        }
      ]
    },
    {
      "cell_type": "code",
      "metadata": {
        "id": "7609ce88",
        "colab": {
          "base_uri": "https://localhost:8080/",
          "height": 362
        },
        "outputId": "af7762dd-345b-42c6-813b-392ba9444344"
      },
      "source": [
        "seb.regplot(y_test, y_test_pred)"
      ],
      "id": "7609ce88",
      "execution_count": 29,
      "outputs": [
        {
          "output_type": "stream",
          "name": "stderr",
          "text": [
            "/usr/local/lib/python3.7/dist-packages/seaborn/_decorators.py:43: FutureWarning: Pass the following variables as keyword args: x, y. From version 0.12, the only valid positional argument will be `data`, and passing other arguments without an explicit keyword will result in an error or misinterpretation.\n",
            "  FutureWarning\n"
          ]
        },
        {
          "output_type": "execute_result",
          "data": {
            "text/plain": [
              "<matplotlib.axes._subplots.AxesSubplot at 0x7f379c017c50>"
            ]
          },
          "metadata": {},
          "execution_count": 29
        },
        {
          "output_type": "display_data",
          "data": {
            "image/png": "[encoded data removed]",
            "text/plain": [
              "<Figure size 432x288 with 1 Axes>"
            ]
          },
          "metadata": {
            "needs_background": "light"
          }
        }
      ]
    },
    {
      "cell_type": "code",
      "metadata": {
        "id": "2b3702e1",
        "colab": {
          "base_uri": "https://localhost:8080/",
          "height": 307
        },
        "outputId": "a29e80ab-0c4d-448c-d3b8-b8fe07191735"
      },
      "source": [
        "plt.scatter(y_test,y_test_pred)\n",
        "plt.xlabel('Price')\n",
        "plt.ylabel('Model Predicted Price')"
      ],
      "id": "2b3702e1",
      "execution_count": 30,
      "outputs": [
        {
          "output_type": "execute_result",
          "data": {
            "text/plain": [
              "Text(0, 0.5, 'Model Predicted Price')"
            ]
          },
          "metadata": {},
          "execution_count": 30
        },
        {
          "output_type": "display_data",
          "data": {
            "image/png": "[encoded data removed]",
            "text/plain": [
              "<Figure size 432x288 with 1 Axes>"
            ]
          },
          "metadata": {
            "needs_background": "light"
          }
        }
      ]
    },
    {
      "cell_type": "code",
      "metadata": {
        "id": "d93d4d6b",
        "colab": {
          "base_uri": "https://localhost:8080/"
        },
        "outputId": "463d89ad-2ad6-48e4-9c10-e798def70c8b"
      },
      "source": [
        "from sklearn.metrics import r2_score,mean_absolute_error,mean_squared_error\n",
        "print(\"R^2:\",r2_score(y_test,y_test_pred))\n",
        "print(\"MAE:\",mean_absolute_error(y_test,y_test_pred))\n",
        "print(\"MSE:\",mean_squared_error(y_test,y_test_pred))\n",
        "print(\"RMSE:\",np.sqrt(mean_squared_error(y_test,y_test_pred)))"
      ],
      "id": "d93d4d6b",
      "execution_count": 32,
      "outputs": [
        {
          "output_type": "stream",
          "name": "stdout",
          "text": [
            "R^2: 0.697224196346618\n",
            "MAE: 112493.72529576615\n",
            "MSE: 33013940726.36676\n",
            "RMSE: 181697.38778080096\n"
          ]
        }
      ]
    },
    {
      "cell_type": "code",
      "metadata": {
        "id": "5cb14557",
        "colab": {
          "base_uri": "https://localhost:8080/"
        },
        "outputId": "b5edb3b5-60bd-4ff0-e999-a7d66da3976b"
      },
      "source": [
        "print(\"Linear Regression\",lm.score(X_test,y_test))"
      ],
      "id": "5cb14557",
      "execution_count": 34,
      "outputs": [
        {
          "output_type": "stream",
          "name": "stdout",
          "text": [
            "Linear Regression 0.7052419493142296\n"
          ]
        }
      ]
    },
    {
      "cell_type": "code",
      "source": [
        "#RandomForest\n",
        "from sklearn.ensemble import RandomForestRegressor\n",
        "RFR = RandomForestRegressor()\n",
        "RFR.fit(X_train,y_train)\n"
      ],
      "metadata": {
        "id": "QOkJfQp2KokB",
        "colab": {
          "base_uri": "https://localhost:8080/"
        },
        "outputId": "152d9371-edf6-4a5f-a59b-4d9f671393cc"
      },
      "id": "QOkJfQp2KokB",
      "execution_count": 38,
      "outputs": [
        {
          "output_type": "execute_result",
          "data": {
            "text/plain": [
              "RandomForestRegressor()"
            ]
          },
          "metadata": {},
          "execution_count": 38
        }
      ]
    },
    {
      "cell_type": "code",
      "source": [
        "y_train_pred= lm.predict(X_train)\n",
        "y_train_pred"
      ],
      "metadata": {
        "colab": {
          "base_uri": "https://localhost:8080/"
        },
        "id": "f4BbrZ1SKIKU",
        "outputId": "9c673c85-fa77-406e-cc63-14fc2be256ac"
      },
      "id": "f4BbrZ1SKIKU",
      "execution_count": 39,
      "outputs": [
        {
          "output_type": "execute_result",
          "data": {
            "text/plain": [
              "array([402337.17967144, 139548.06142335, 597384.36056792, ...,\n",
              "       470297.30789516, 539161.20752347, 553696.93050064])"
            ]
          },
          "metadata": {},
          "execution_count": 39
        }
      ]
    },
    {
      "cell_type": "code",
      "source": [
        "plt.scatter(y_train,y_train_pred)\n",
        "plt.xlabel('Purchase')\n",
        "plt.ylabel('model predicted purchase')"
      ],
      "metadata": {
        "colab": {
          "base_uri": "https://localhost:8080/",
          "height": 307
        },
        "id": "Ifa2NF7BKSow",
        "outputId": "bef6ba5c-f0b7-43ae-94d9-55d338eedef1"
      },
      "id": "Ifa2NF7BKSow",
      "execution_count": 40,
      "outputs": [
        {
          "output_type": "execute_result",
          "data": {
            "text/plain": [
              "Text(0, 0.5, 'model predicted purchase')"
            ]
          },
          "metadata": {},
          "execution_count": 40
        },
        {
          "output_type": "display_data",
          "data": {
            "image/png": "[encoded data removed]",
            "text/plain": [
              "<Figure size 432x288 with 1 Axes>"
            ]
          },
          "metadata": {
            "needs_background": "light"
          }
        }
      ]
    },
    {
      "cell_type": "code",
      "source": [
        "y_test_pred=lm.predict(X_test)\n",
        "y_test_pred"
      ],
      "metadata": {
        "colab": {
          "base_uri": "https://localhost:8080/"
        },
        "id": "C0WwKHzwK4Jf",
        "outputId": "99c88bcc-6edf-4f80-c820-859b6ffb429f"
      },
      "id": "C0WwKHzwK4Jf",
      "execution_count": 41,
      "outputs": [
        {
          "output_type": "execute_result",
          "data": {
            "text/plain": [
              "array([863080.11138503, 438150.51750585, 146233.2934192 , ...,\n",
              "       759515.728116  , 153833.13146548, 446720.38254958])"
            ]
          },
          "metadata": {},
          "execution_count": 41
        }
      ]
    },
    {
      "cell_type": "code",
      "source": [
        "plt.scatter(y_test,y_test_pred)\n",
        "plt.xlabel('Price')\n",
        "plt.ylabel('Model Predicted Price')"
      ],
      "metadata": {
        "colab": {
          "base_uri": "https://localhost:8080/",
          "height": 307
        },
        "id": "MNlqKqscLDpF",
        "outputId": "a0f71c9a-528a-4c26-802b-08a71f7a452b"
      },
      "id": "MNlqKqscLDpF",
      "execution_count": 42,
      "outputs": [
        {
          "output_type": "execute_result",
          "data": {
            "text/plain": [
              "Text(0, 0.5, 'Model Predicted Price')"
            ]
          },
          "metadata": {},
          "execution_count": 42
        },
        {
          "output_type": "display_data",
          "data": {
            "image/png": "[encoded data removed]",
            "text/plain": [
              "<Figure size 432x288 with 1 Axes>"
            ]
          },
          "metadata": {
            "needs_background": "light"
          }
        }
      ]
    },
    {
      "cell_type": "code",
      "source": [
        "from sklearn.metrics import r2_score,mean_absolute_error,mean_squared_error\n",
        "print(\"R^2:\",r2_score(y_test,y_test_pred))\n",
        "print(\"MAE:\",mean_absolute_error(y_test,y_test_pred))\n",
        "print(\"MSE:\",mean_squared_error(y_test,y_test_pred))\n",
        "print(\"RMSE:\",np.sqrt(mean_squared_error(y_test,y_test_pred)))"
      ],
      "metadata": {
        "colab": {
          "base_uri": "https://localhost:8080/"
        },
        "id": "Gpjs7cTILLlY",
        "outputId": "6ec953ab-575d-43d0-dda8-4b0c508b657b"
      },
      "id": "Gpjs7cTILLlY",
      "execution_count": 45,
      "outputs": [
        {
          "output_type": "stream",
          "name": "stdout",
          "text": [
            "R^2: 0.697224196346618\n",
            "MAE: 112493.72529576615\n",
            "MSE: 33013940726.36676\n",
            "RMSE: 181697.38778080096\n"
          ]
        }
      ]
    },
    {
      "cell_type": "code",
      "source": [
        "print(\"RandomForest\",RFR.score(X_test,y_test))"
      ],
      "metadata": {
        "colab": {
          "base_uri": "https://localhost:8080/"
        },
        "id": "9PTpAMFqJ2ed",
        "outputId": "9eefdb69-fcb6-4eb7-b1a0-6c66414360f0"
      },
      "id": "9PTpAMFqJ2ed",
      "execution_count": 44,
      "outputs": [
        {
          "output_type": "stream",
          "name": "stdout",
          "text": [
            "RandomForest 0.98460175166474\n"
          ]
        }
      ]
    },
    {
      "cell_type": "code",
      "source": [
        "#Decision Tree\n",
        "from sklearn.tree import DecisionTreeRegressor\n",
        "DTR = DecisionTreeRegressor()\n",
        "DTR.fit(X_train,y_train)\n"
      ],
      "metadata": {
        "colab": {
          "base_uri": "https://localhost:8080/"
        },
        "id": "C3EwOTFQMA75",
        "outputId": "89a6e3a7-4469-439b-da32-711e6cea7587"
      },
      "id": "C3EwOTFQMA75",
      "execution_count": 46,
      "outputs": [
        {
          "output_type": "execute_result",
          "data": {
            "text/plain": [
              "DecisionTreeRegressor()"
            ]
          },
          "metadata": {},
          "execution_count": 46
        }
      ]
    },
    {
      "cell_type": "code",
      "source": [
        "y_train_pred= lm.predict(X_train)\n",
        "y_train_pred"
      ],
      "metadata": {
        "colab": {
          "base_uri": "https://localhost:8080/"
        },
        "id": "XKVy_5ZaMBap",
        "outputId": "af492a9b-0216-497a-e86a-3d171e920527"
      },
      "id": "XKVy_5ZaMBap",
      "execution_count": 47,
      "outputs": [
        {
          "output_type": "execute_result",
          "data": {
            "text/plain": [
              "array([402337.17967144, 139548.06142335, 597384.36056792, ...,\n",
              "       470297.30789516, 539161.20752347, 553696.93050064])"
            ]
          },
          "metadata": {},
          "execution_count": 47
        }
      ]
    },
    {
      "cell_type": "code",
      "source": [
        "plt.scatter(y_train,y_train_pred)\n",
        "plt.xlabel('Purchase')\n",
        "plt.ylabel('model predicted purchase')"
      ],
      "metadata": {
        "colab": {
          "base_uri": "https://localhost:8080/",
          "height": 307
        },
        "id": "6kUIhXLjMBgg",
        "outputId": "10921d5a-66d5-449d-d10f-2ceb06c56333"
      },
      "id": "6kUIhXLjMBgg",
      "execution_count": 48,
      "outputs": [
        {
          "output_type": "execute_result",
          "data": {
            "text/plain": [
              "Text(0, 0.5, 'model predicted purchase')"
            ]
          },
          "metadata": {},
          "execution_count": 48
        },
        {
          "output_type": "display_data",
          "data": {
            "image/png": "[encoded data removed]",
            "text/plain": [
              "<Figure size 432x288 with 1 Axes>"
            ]
          },
          "metadata": {
            "needs_background": "light"
          }
        }
      ]
    },
    {
      "cell_type": "code",
      "source": [
        "y_test_pred=lm.predict(X_test)\n",
        "y_test_pred"
      ],
      "metadata": {
        "colab": {
          "base_uri": "https://localhost:8080/"
        },
        "id": "rx4g_H7OMBjb",
        "outputId": "a00fddce-8177-45e7-e9cb-cad37f164092"
      },
      "id": "rx4g_H7OMBjb",
      "execution_count": 49,
      "outputs": [
        {
          "output_type": "execute_result",
          "data": {
            "text/plain": [
              "array([863080.11138503, 438150.51750585, 146233.2934192 , ...,\n",
              "       759515.728116  , 153833.13146548, 446720.38254958])"
            ]
          },
          "metadata": {},
          "execution_count": 49
        }
      ]
    },
    {
      "cell_type": "code",
      "source": [
        "plt.scatter(y_test,y_test_pred)\n",
        "plt.xlabel('Price')\n",
        "plt.ylabel('Model Predicted Price')"
      ],
      "metadata": {
        "colab": {
          "base_uri": "https://localhost:8080/",
          "height": 307
        },
        "id": "aD19HERQMBmE",
        "outputId": "1c84bfc2-b9f2-4a98-a6dd-9304fb755b07"
      },
      "id": "aD19HERQMBmE",
      "execution_count": 50,
      "outputs": [
        {
          "output_type": "execute_result",
          "data": {
            "text/plain": [
              "Text(0, 0.5, 'Model Predicted Price')"
            ]
          },
          "metadata": {},
          "execution_count": 50
        },
        {
          "output_type": "display_data",
          "data": {
            "image/png": "[encoded data removed]",
            "text/plain": [
              "<Figure size 432x288 with 1 Axes>"
            ]
          },
          "metadata": {
            "needs_background": "light"
          }
        }
      ]
    },
    {
      "cell_type": "code",
      "source": [
        "from sklearn.metrics import r2_score,mean_absolute_error,mean_squared_error\n",
        "print(\"R^2:\",r2_score(y_test,y_test_pred))\n",
        "print(\"MAE:\",mean_absolute_error(y_test,y_test_pred))\n",
        "print(\"MSE:\",mean_squared_error(y_test,y_test_pred))\n",
        "print(\"RMSE:\",np.sqrt(mean_squared_error(y_test,y_test_pred)))"
      ],
      "metadata": {
        "colab": {
          "base_uri": "https://localhost:8080/"
        },
        "id": "XSYe0L9zMBqk",
        "outputId": "0589a7d7-bc2e-4f3a-a9c4-679faca33f20"
      },
      "id": "XSYe0L9zMBqk",
      "execution_count": 51,
      "outputs": [
        {
          "output_type": "stream",
          "name": "stdout",
          "text": [
            "R^2: 0.697224196346618\n",
            "MAE: 112493.72529576615\n",
            "MSE: 33013940726.36676\n",
            "RMSE: 181697.38778080096\n"
          ]
        }
      ]
    },
    {
      "cell_type": "code",
      "source": [
        "print(\"Decision Tree\",DTR.score(X_test,y_test))"
      ],
      "metadata": {
        "colab": {
          "base_uri": "https://localhost:8080/"
        },
        "id": "ZkKnDaZQMBto",
        "outputId": "4d2de937-a04d-4c65-dd8e-46ec60024bbf"
      },
      "id": "ZkKnDaZQMBto",
      "execution_count": 52,
      "outputs": [
        {
          "output_type": "stream",
          "name": "stdout",
          "text": [
            "Decision Tree 0.9821562027306907\n"
          ]
        }
      ]
    },
    {
      "cell_type": "code",
      "source": [
        "compare_models = pd.DataFrame(\n",
        "    {  'Model' : ['LinearRegression', 'Random Forest','Decision Tree',],\n",
        "       'Score' : [lm.score(X_test,y_test),RFR.score(X_test,y_test), DTR.score(X_test,y_test)],\n",
        "    })\n",
        "  \n",
        "print(compare_models)"
      ],
      "metadata": {
        "colab": {
          "base_uri": "https://localhost:8080/"
        },
        "id": "tw9nugCgL61d",
        "outputId": "96776361-c4dc-4491-f73f-01e3a9314306"
      },
      "id": "tw9nugCgL61d",
      "execution_count": 54,
      "outputs": [
        {
          "output_type": "stream",
          "name": "stdout",
          "text": [
            "              Model     Score\n",
            "0  LinearRegression  0.697224\n",
            "1     Random Forest  0.984602\n",
            "2     Decision Tree  0.982156\n"
          ]
        }
      ]
    }
  ]
}